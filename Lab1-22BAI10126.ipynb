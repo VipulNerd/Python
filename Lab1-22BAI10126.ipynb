import cv2

def doSomething(image_path):
    # Load the image
    image = cv2.imread(image_path)
    
    # Convert BGR to Grayscale
    gray_image = cv2.cvtColor(image, cv2.COLOR_BGR2GRAY)
    
    # Convert BGR to HSV
    hsv_image = cv2.cvtColor(image, cv2.COLOR_BGR2HSV)
    
    # Convert BGR to LAB
    lab_image = cv2.cvtColor(image, cv2.COLOR_BGR2Lab)
    
    # Convert BGR to RGB (useful for matplotlib)
    rgb_image = cv2.cvtColor(image, cv2.COLOR_BGR2RGB)
    
    return gray_image, hsv_image, lab_image, rgb_image

# Example usage
image_path = '/Users/vamhaze/Documents/Python/bg_compose_background.png'  # Replace with your image path
gray, hsv, lab, rgb = doSomething(image_path)

# Display the images
cv2.imshow('Gray Image', gray)
cv2.imshow('HSV Image', hsv)
cv2.imshow('LAB Image', lab)
cv2.imshow('RGB Image', rgb)
cv2.waitKey(0)
cv2.destroyAllWindows()