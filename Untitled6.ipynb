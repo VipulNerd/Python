{
 "cells": [
  {
   "cell_type": "code",
   "execution_count": null,
   "id": "a474ae10-7905-464b-9eb8-a7f70351cd8f",
   "metadata": {},
   "outputs": [],
   "source": [
    "#22BAI10126\n",
    "#Vipul Gupta"
   ]
  },
  {
   "cell_type": "code",
   "execution_count": null,
   "id": "a450f891-0ca4-4644-9a7f-49016fcbecaf",
   "metadata": {},
   "outputs": [
    {
     "name": "stderr",
     "output_type": "stream",
     "text": [
      "2024-12-12 22:38:35.835 python[28495:5215977] +[IMKClient subclass]: chose IMKClient_Modern\n",
      "2024-12-12 22:38:35.835 python[28495:5215977] +[IMKInputSession subclass]: chose IMKInputSession_Modern\n",
      "2024-12-12 22:38:35.848 python[28495:5215977] _TIPropertyValueIsValid called with 16 on nil context!\n",
      "2024-12-12 22:38:35.848 python[28495:5215977] imkxpc_getApplicationProperty:reply: called with incorrect property value 16, bailing.\n",
      "2024-12-12 22:38:35.848 python[28495:5215977] Text input context does not respond to _valueForTIProperty:\n",
      "2024-12-12 22:40:39.990 python[28495:5215977] _TIPropertyValueIsValid called with 16 on nil context!\n",
      "2024-12-12 22:40:39.990 python[28495:5215977] imkxpc_getApplicationProperty:reply: called with incorrect property value 16, bailing.\n",
      "2024-12-12 22:40:39.990 python[28495:5215977] Text input context does not respond to _valueForTIProperty:\n"
     ]
    }
   ],
   "source": [
    "import cv2\n",
    "import numpy as np\n",
    "import requests\n",
    "\n",
    "def doSomething(image_url, kernel_size=(5, 5)):\n",
    "    # Fetch the image from the URL\n",
    "    response = requests.get(image_url)\n",
    "    \n",
    "    # Check if the request was successful\n",
    "    if response.status_code != 200:\n",
    "        print(f\"Error: Unable to fetch image. HTTP status code {response.status_code}\")\n",
    "        return None\n",
    "\n",
    "    # Convert the image data into an OpenCV format\n",
    "    image_data = np.frombuffer(response.content, np.uint8)\n",
    "    image = cv2.imdecode(image_data, cv2.IMREAD_GRAYSCALE)\n",
    "    \n",
    "    # Check if the image was loaded correctly\n",
    "    if image is None:\n",
    "        print(f\"Error: Unable to decode the image from {image_url}.\")\n",
    "        return None\n",
    "    \n",
    "    # Threshold the image to get a binary image\n",
    "    _, binary_image = cv2.threshold(image, 127, 255, cv2.THRESH_BINARY)\n",
    "    \n",
    "    # Create a structuring element (kernel)\n",
    "    kernel = np.ones(kernel_size, np.uint8)\n",
    "    \n",
    "    # Apply morphological operations\n",
    "    erosion = cv2.erode(binary_image, kernel, iterations=1)\n",
    "    dilation = cv2.dilate(binary_image, kernel, iterations=1)\n",
    "    opening = cv2.morphologyEx(binary_image, cv2.MORPH_OPEN, kernel)\n",
    "    closing = cv2.morphologyEx(binary_image, cv2.MORPH_CLOSE, kernel)\n",
    "    \n",
    "    # Display the results\n",
    "    cv2.imshow(\"Original Binary Image\", binary_image)\n",
    "    cv2.imshow(\"Erosion\", erosion)\n",
    "    cv2.imshow(\"Dilation\", dilation)\n",
    "    cv2.imshow(\"Opening\", opening)\n",
    "    cv2.imshow(\"Closing\", closing)\n",
    "    \n",
    "    # Wait for a key press and close windows\n",
    "    cv2.waitKey(0)\n",
    "    cv2.destroyAllWindows()\n",
    "    \n",
    "    return erosion, dilation, opening, closing\n",
    "\n",
    "# Example usage\n",
    "image_url = \"https://burst.shopifycdn.com/photos/tanned-sand-dunes-surrounded-an-open-reservoir.jpg?width=1000&format=pjpg&exif=0&iptc=0\"  # Replace with your image URL\n",
    "kernel_size = (5, 5)  # Size of the kernel\n",
    "results = doSomething(image_url, kernel_size)"
   ]
  },
  {
   "cell_type": "code",
   "execution_count": null,
   "id": "d71b1d4b-030f-4944-9449-dca158cb4159",
   "metadata": {},
   "outputs": [],
   "source": []
  }
 ],
 "metadata": {
  "kernelspec": {
   "display_name": "Python [conda env:base] *",
   "language": "python",
   "name": "conda-base-py"
  },
  "language_info": {
   "codemirror_mode": {
    "name": "ipython",
    "version": 3
   },
   "file_extension": ".py",
   "mimetype": "text/x-python",
   "name": "python",
   "nbconvert_exporter": "python",
   "pygments_lexer": "ipython3",
   "version": "3.12.7"
  }
 },
 "nbformat": 4,
 "nbformat_minor": 5
}
