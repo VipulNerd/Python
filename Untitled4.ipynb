{
 "cells": [
  {
   "cell_type": "code",
   "execution_count": null,
   "id": "0188cc0d-de63-4499-8e6d-6ea6d92c5996",
   "metadata": {},
   "outputs": [],
   "source": [
    "#22BAI10126\n",
    "#Vipul Gupta"
   ]
  },
  {
   "cell_type": "code",
   "execution_count": null,
   "id": "d02e8a77-5c6c-4750-912c-03cfea267337",
   "metadata": {},
   "outputs": [
    {
     "name": "stderr",
     "output_type": "stream",
     "text": [
      "2024-12-12 22:24:58.108 python[28116:5207769] +[IMKClient subclass]: chose IMKClient_Modern\n",
      "2024-12-12 22:24:58.109 python[28116:5207769] +[IMKInputSession subclass]: chose IMKInputSession_Modern\n",
      "2024-12-12 22:24:58.117 python[28116:5207769] _TIPropertyValueIsValid called with 16 on nil context!\n",
      "2024-12-12 22:24:58.117 python[28116:5207769] imkxpc_getApplicationProperty:reply: called with incorrect property value 16, bailing.\n",
      "2024-12-12 22:24:58.117 python[28116:5207769] Text input context does not respond to _valueForTIProperty:\n",
      "2024-12-12 22:25:27.640 python[28116:5207769] _TIPropertyValueIsValid called with 16 on nil context!\n",
      "2024-12-12 22:25:27.640 python[28116:5207769] imkxpc_getApplicationProperty:reply: called with incorrect property value 16, bailing.\n",
      "2024-12-12 22:25:27.640 python[28116:5207769] Text input context does not respond to _valueForTIProperty:\n"
     ]
    }
   ],
   "source": [
    "import cv2\n",
    "import numpy as np\n",
    "import requests\n",
    "\n",
    "def doSomething(image_url, clip_limit, tile_grid_size):\n",
    "    # Fetch the image from the URL\n",
    "    response = requests.get(image_url)\n",
    "    \n",
    "    # Check if the request was successful\n",
    "    if response.status_code != 200:\n",
    "        raise Exception(f\"Error: Unable to fetch image. HTTP status code {response.status_code}\")\n",
    "    \n",
    "    # Convert the image data into an OpenCV format\n",
    "    image_data = np.frombuffer(response.content, np.uint8)\n",
    "    image = cv2.imdecode(image_data, cv2.IMREAD_COLOR)\n",
    "    \n",
    "    # Check if the image was loaded correctly\n",
    "    if image is None:\n",
    "        raise Exception(f\"Error: Unable to decode the image from {image_url}.\")\n",
    "    \n",
    "    # Apply global histogram equalization\n",
    "    global_equalized = cv2.equalizeHist(cv2.cvtColor(image, cv2.COLOR_BGR2GRAY))\n",
    "    \n",
    "    # Apply CLAHE (Contrast Limited Adaptive Histogram Equalization)\n",
    "    clahe = cv2.createCLAHE(clipLimit=clip_limit, tileGridSize=tile_grid_size)\n",
    "    clahe_equalized = clahe.apply(cv2.cvtColor(image, cv2.COLOR_BGR2GRAY))\n",
    "    \n",
    "    # Display the results\n",
    "    cv2.imshow(\"Original Image\", image)\n",
    "    cv2.imshow(\"Global Histogram Equalization\", global_equalized)\n",
    "    cv2.imshow(\"CLAHE Equalization\", clahe_equalized)\n",
    "    \n",
    "    # Wait for a key press and close windows\n",
    "    cv2.waitKey(0)\n",
    "    cv2.destroyAllWindows()\n",
    "    \n",
    "    return global_equalized, clahe_equalized\n",
    "\n",
    "# Example usage\n",
    "image_url = 'https://t4.ftcdn.net/jpg/07/08/47/75/360_F_708477508_DNkzRIsNFgibgCJ6KoTgJjjRZNJD4mb4.jpg'  # Replace with your image URL\n",
    "clip_limit = 2.0  # Limit for CLAHE to prevent over-amplifying noise\n",
    "tile_grid_size = (8, 8)  # Size of local grids for CLAHE\n",
    "global_eq, clahe_eq = doSomething(image_url, clip_limit, tile_grid_size)"
   ]
  },
  {
   "cell_type": "code",
   "execution_count": null,
   "id": "9056809c-113c-4692-a701-3f324d6af8d4",
   "metadata": {},
   "outputs": [],
   "source": []
  }
 ],
 "metadata": {
  "kernelspec": {
   "display_name": "Python [conda env:base] *",
   "language": "python",
   "name": "conda-base-py"
  },
  "language_info": {
   "codemirror_mode": {
    "name": "ipython",
    "version": 3
   },
   "file_extension": ".py",
   "mimetype": "text/x-python",
   "name": "python",
   "nbconvert_exporter": "python",
   "pygments_lexer": "ipython3",
   "version": "3.12.7"
  }
 },
 "nbformat": 4,
 "nbformat_minor": 5
}
