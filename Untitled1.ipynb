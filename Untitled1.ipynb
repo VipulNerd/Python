{
 "cells": [
  {
   "cell_type": "code",
   "execution_count": null,
   "id": "54a4eee1-e051-4c5e-9099-fcea769d16bd",
   "metadata": {},
   "outputs": [],
   "source": [
    "#Vipul Gupta\n",
    "#22BAI10126"
   ]
  },
  {
   "cell_type": "code",
   "execution_count": null,
   "id": "5a7944cf-a2ae-41e0-9787-e107f74f80f1",
   "metadata": {},
   "outputs": [
    {
     "name": "stderr",
     "output_type": "stream",
     "text": [
      "2024-12-12 21:57:44.303 python[26806:5178778] +[IMKClient subclass]: chose IMKClient_Modern\n",
      "2024-12-12 21:57:44.303 python[26806:5178778] +[IMKInputSession subclass]: chose IMKInputSession_Modern\n",
      "2024-12-12 21:57:47.032 python[26806:5178778] _TIPropertyValueIsValid called with 16 on nil context!\n",
      "2024-12-12 21:57:47.032 python[26806:5178778] imkxpc_getApplicationProperty:reply: called with incorrect property value 16, bailing.\n",
      "2024-12-12 21:57:47.032 python[26806:5178778] Text input context does not respond to _valueForTIProperty:\n"
     ]
    }
   ],
   "source": [
    "import cv2\n",
    "import numpy as np\n",
    "import requests\n",
    "\n",
    "def doSomething(image_path, output_path):\n",
    "    # Read the image (as a color image)\n",
    "    image = cv2.imread(image_path, cv2.IMREAD_COLOR)\n",
    "    \n",
    "    # Convert to grayscale\n",
    "    gray_image = cv2.imread(image_path, cv2.IMREAD_GRAYSCALE)\n",
    "    \n",
    "    # Display the original image\n",
    "    cv2.imshow('Original Image', image)\n",
    "    \n",
    "    # Display the grayscale image\n",
    "    cv2.imshow('Grayscale Image', gray_image)\n",
    "    \n",
    "    # Write the grayscale image to disk\n",
    "    cv2.imwrite(output_path, gray_image)\n",
    "    \n",
    "    # Wait for user input and close windows\n",
    "    cv2.waitKey(0)\n",
    "    cv2.destroyAllWindows()\n",
    "    return output_path\n",
    "\n",
    "# Example usage\n",
    "image_path = 'bg_compose_background.png'       # Input image file\n",
    "output_path = 'output_gray.jpg'  # Output file for grayscale image\n",
    "saved_image_path = doSomething(image_path, output_path)\n",
    "\n",
    "print(f\"Grayscale image saved to: {saved_image_path}\")"
   ]
  },
  {
   "cell_type": "code",
   "execution_count": null,
   "id": "0ebb7e2f-6459-4ecd-9824-77718b6afcd6",
   "metadata": {},
   "outputs": [],
   "source": []
  }
 ],
 "metadata": {
  "kernelspec": {
   "display_name": "Python [conda env:base] *",
   "language": "python",
   "name": "conda-base-py"
  },
  "language_info": {
   "codemirror_mode": {
    "name": "ipython",
    "version": 3
   },
   "file_extension": ".py",
   "mimetype": "text/x-python",
   "name": "python",
   "nbconvert_exporter": "python",
   "pygments_lexer": "ipython3",
   "version": "3.12.7"
  }
 },
 "nbformat": 4,
 "nbformat_minor": 5
}
