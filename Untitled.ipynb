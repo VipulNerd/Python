{
 "cells": [
  {
   "cell_type": "code",
   "execution_count": 7,
   "id": "cadc1fdd-d308-420d-b8d1-4a0c8cc8434b",
   "metadata": {},
   "outputs": [
    {
     "name": "stdout",
     "output_type": "stream",
     "text": [
      "Collecting opencv-python\n",
      "  Using cached opencv_python-4.10.0.84-cp37-abi3-macosx_11_0_arm64.whl.metadata (20 kB)\n",
      "Requirement already satisfied: numpy>=1.21.2 in /opt/anaconda3/lib/python3.12/site-packages (from opencv-python) (1.26.4)\n",
      "Using cached opencv_python-4.10.0.84-cp37-abi3-macosx_11_0_arm64.whl (54.8 MB)\n",
      "Installing collected packages: opencv-python\n",
      "Successfully installed opencv-python-4.10.0.84\n",
      "Note: you may need to restart the kernel to use updated packages.\n"
     ]
    }
   ],
   "source": [
    "pip install opencv-python\n"
   ]
  },
  {
   "cell_type": "code",
   "execution_count": null,
   "id": "e69cdd86-f926-4f7f-a90e-ccc92775ee5f",
   "metadata": {},
   "outputs": [],
   "source": [
    "#Vipul Gupta\n",
    "#22BAI10126"
   ]
  },
  {
   "cell_type": "code",
   "execution_count": null,
   "id": "1f637786-944e-496c-ae7e-1322e6965f14",
   "metadata": {},
   "outputs": [
    {
     "name": "stderr",
     "output_type": "stream",
     "text": [
      "2024-12-12 21:51:01.624 python[26464:5174408] +[IMKClient subclass]: chose IMKClient_Modern\n",
      "2024-12-12 21:51:01.624 python[26464:5174408] +[IMKInputSession subclass]: chose IMKInputSession_Modern\n",
      "2024-12-12 21:51:03.204 python[26464:5174408] _TIPropertyValueIsValid called with 16 on nil context!\n",
      "2024-12-12 21:51:03.204 python[26464:5174408] imkxpc_getApplicationProperty:reply: called with incorrect property value 16, bailing.\n",
      "2024-12-12 21:51:03.204 python[26464:5174408] Text input context does not respond to _valueForTIProperty:\n"
     ]
    }
   ],
   "source": [
    "import cv2\n",
    "import numpy as np\n",
    "import requests\n",
    "def doSomething(image_url):\n",
    "    # Fetch the image from the URL\n",
    "    response = requests.get(image_url)\n",
    "    image_data = np.frombuffer(response.content, np.uint8)\n",
    "    \n",
    "    # Decode the image into an OpenCV-compatible format\n",
    "    image = cv2.imdecode(image_data, cv2.IMREAD_COLOR)\n",
    "    \n",
    "    # Check if the image is loaded successfully\n",
    "    if image is None:\n",
    "        print(\"Error: Unable to load image. Check the URL or internet connection.\")\n",
    "        return None, None, None, None\n",
    "    \n",
    "    # Convert BGR to Grayscale\n",
    "    gray_image = cv2.cvtColor(image, cv2.COLOR_BGR2GRAY)\n",
    "    \n",
    "    # Convert BGR to HSV\n",
    "    hsv_image = cv2.cvtColor(image, cv2.COLOR_BGR2HSV)\n",
    "    \n",
    "    # Convert BGR to Lab\n",
    "    lab_image = cv2.cvtColor(image, cv2.COLOR_BGR2Lab)\n",
    "    \n",
    "    # Convert BGR to RGB\n",
    "    rgb_image = cv2.cvtColor(image, cv2.COLOR_BGR2RGB)\n",
    "    \n",
    "    return gray_image, hsv_image, lab_image, rgb_image\n",
    "\n",
    "# Example usage\n",
    "image_url = 'https://burst.shopifycdn.com/photos/a-drop-of-pink-and-yellow-paint-in-water.jpg?width=1000&format=pjpg&exif=0&iptc=0'\n",
    "gray, hsv, lab, rgb = doSomething(image_url)\n",
    "\n",
    "# Display the images if they are successfully loaded\n",
    "if gray is not None:\n",
    "    cv2.imshow('Gray Image', gray)\n",
    "    cv2.imshow('HSV Image', hsv)\n",
    "    cv2.imshow('Lab Image', lab)\n",
    "    cv2.imshow('RGB Image', rgb)\n",
    "    cv2.waitKey(0)\n",
    "    cv2.destroyAllWindows()"
   ]
  },
  {
   "cell_type": "code",
   "execution_count": null,
   "id": "e95a2e82-7ed2-438f-8b52-2d7aa073adfc",
   "metadata": {},
   "outputs": [],
   "source": []
  }
 ],
 "metadata": {
  "kernelspec": {
   "display_name": "Python [conda env:base] *",
   "language": "python",
   "name": "conda-base-py"
  },
  "language_info": {
   "codemirror_mode": {
    "name": "ipython",
    "version": 3
   },
   "file_extension": ".py",
   "mimetype": "text/x-python",
   "name": "python",
   "nbconvert_exporter": "python",
   "pygments_lexer": "ipython3",
   "version": "3.12.7"
  }
 },
 "nbformat": 4,
 "nbformat_minor": 5
}
