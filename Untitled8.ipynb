{
 "cells": [
  {
   "cell_type": "code",
   "execution_count": null,
   "id": "9b56e373-aaf1-41bf-abdd-2319f4f973e1",
   "metadata": {},
   "outputs": [],
   "source": [
    "#Vipul Gupta\n",
    "#22BAI10126\n"
   ]
  },
  {
   "cell_type": "code",
   "execution_count": null,
   "id": "6d02b902-b2e0-4e50-8361-d7358086539e",
   "metadata": {},
   "outputs": [],
   "source": [
    "# Jesin Saji 22BAI10224\n",
    "# Exp 9\n",
    "import cv2\n",
    "import numpy as np\n",
    "import requests\n",
    "from io import BytesIO\n",
    "from PIL import Image  # To handle the image from the URL\n",
    "\n",
    "# Function to read an image from a URL\n",
    "def read_image_from_url(url):\n",
    "    response = requests.get(url)  # Fetch the image from the URL\n",
    "    image_data = BytesIO(response.content)  # Convert to a byte stream\n",
    "    pil_image = Image.open(image_data).convert(\"RGB\")  # Open as a PIL image and ensure RGB format\n",
    "    return np.array(pil_image)[:, :, ::-1]  # Convert PIL image to OpenCV format (BGR)\n",
    "\n",
    "# Input: URL of the image\n",
    "image_url = input(\"https://img.freepik.com/free-photo/person-holding-frame-with-open-nature-landscape-concept_23-2150063218.jpg?semt=ais_hybrid\")\n",
    "image = read_image_from_url(image_url)\n",
    "\n",
    "# Convert to grayscale and preprocess\n",
    "gray = cv2.cvtColor(image, cv2.COLOR_BGR2GRAY)\n",
    "ret, binary = cv2.threshold(gray, 0, 255, cv2.THRESH_BINARY_INV + cv2.THRESH_OTSU)\n",
    "\n",
    "# Define markers\n",
    "kernel = np.ones((3, 3), np.uint8)\n",
    "sure_bg = cv2.dilate(binary, kernel, iterations=3)\n",
    "dist_transform = cv2.distanceTransform(binary, cv2.DIST_L2, 5)\n",
    "ret, sure_fg = cv2.threshold(dist_transform, 0.7 * dist_transform.max(), 255, 0)\n",
    "\n",
    "# Convert sure_fg to uint8\n",
    "sure_fg = np.uint8(sure_fg)\n",
    "\n",
    "# Subtract to find unknown region\n",
    "unknown = cv2.subtract(sure_bg, sure_fg)\n",
    "\n",
    "# Create markers\n",
    "markers = cv2.connectedComponents(sure_fg)[1]\n",
    "markers = markers + 1\n",
    "markers[unknown == 255] = 0\n",
    "\n",
    "# Apply watershed\n",
    "markers = cv2.watershed(image, markers)\n",
    "image[markers == -1] = [255, 0, 0]\n",
    "\n",
    "# Display results\n",
    "cv2.imshow('Segmented Image', image)\n",
    "cv2.waitKey(0)\n",
    "cv2.destroyAllWindows()"
   ]
  },
  {
   "cell_type": "code",
   "execution_count": null,
   "id": "272c7e93-e975-49c9-9dc4-eae06104ba12",
   "metadata": {},
   "outputs": [],
   "source": []
  }
 ],
 "metadata": {
  "kernelspec": {
   "display_name": "Python [conda env:base] *",
   "language": "python",
   "name": "conda-base-py"
  },
  "language_info": {
   "codemirror_mode": {
    "name": "ipython",
    "version": 3
   },
   "file_extension": ".py",
   "mimetype": "text/x-python",
   "name": "python",
   "nbconvert_exporter": "python",
   "pygments_lexer": "ipython3",
   "version": "3.12.7"
  }
 },
 "nbformat": 4,
 "nbformat_minor": 5
}
