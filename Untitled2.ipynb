{
 "cells": [
  {
   "cell_type": "code",
   "execution_count": 13,
   "id": "81c5f8e3-1c58-4d93-8a42-f036313b1e38",
   "metadata": {},
   "outputs": [],
   "source": [
    "#Vipul Gupta \n",
    "#22BAI10126"
   ]
  },
  {
   "cell_type": "code",
   "execution_count": 15,
   "id": "66c4be70-3f82-4200-b8c3-b6595b3c53b7",
   "metadata": {},
   "outputs": [
    {
     "name": "stdout",
     "output_type": "stream",
     "text": [
      "Press 'q' to stop recording...\n",
      "Flipped video saved to: output_flipped.avi\n"
     ]
    }
   ],
   "source": [
    "import cv2\n",
    "\n",
    "def doSomething(video_output_path):\n",
    "    # Capture video from the default camera (0 is usually the default)\n",
    "    cap = cv2.VideoCapture(0)\n",
    "    \n",
    "    # Check if the video capture is opened\n",
    "    if not cap.isOpened():\n",
    "        return \"Error: Unable to access the camera.\"\n",
    "    \n",
    "    # Get the frame width and height of the video\n",
    "    frame_width = int(cap.get(cv2.CAP_PROP_FRAME_WIDTH))\n",
    "    frame_height = int(cap.get(cv2.CAP_PROP_FRAME_HEIGHT))\n",
    "    \n",
    "    # Define the codec and create VideoWriter object\n",
    "    fourcc = cv2.VideoWriter_fourcc(*'XVID')  # Codec for AVI format\n",
    "    out = cv2.VideoWriter(video_output_path, fourcc, 20.0, (frame_width, frame_height))\n",
    "    \n",
    "    print(\"Press 'q' to stop recording...\")\n",
    "    \n",
    "    while cap.isOpened():\n",
    "        ret, frame = cap.read()\n",
    "        if not ret:\n",
    "            print(\"Failed to grab frame. Exiting...\")\n",
    "            break\n",
    "        \n",
    "        # Flip the frame (flipcode=1 for horizontal flip)\n",
    "        flipped_frame = cv2.flip(frame, 1)\n",
    "        \n",
    "        # Write the flipped frame to the output file\n",
    "        out.write(flipped_frame)\n",
    "        \n",
    "        # Display the flipped frame\n",
    "        cv2.imshow('Flipped Video', flipped_frame)\n",
    "        \n",
    "        # Exit loop on pressing 'q'\n",
    "        if cv2.waitKey(1) & 0xFF == ord('q'):\n",
    "            break\n",
    "    \n",
    "    # Release resources\n",
    "    cap.release()\n",
    "    out.release()\n",
    "    cv2.destroyAllWindows()\n",
    "    return f\"Flipped video saved to: {video_output_path}\"\n",
    "\n",
    "# Example usage\n",
    "video_output_path = 'output_flipped.avi'\n",
    "result = doSomething(video_output_path)\n",
    "print(result)"
   ]
  },
  {
   "cell_type": "code",
   "execution_count": null,
   "id": "a6815627-5966-4e2b-8b14-7b519e5df54f",
   "metadata": {},
   "outputs": [],
   "source": []
  },
  {
   "cell_type": "code",
   "execution_count": null,
   "id": "81ac4260-bf65-4d79-a774-d39ec56450fa",
   "metadata": {},
   "outputs": [],
   "source": []
  }
 ],
 "metadata": {
  "kernelspec": {
   "display_name": "Python [conda env:base] *",
   "language": "python",
   "name": "conda-base-py"
  },
  "language_info": {
   "codemirror_mode": {
    "name": "ipython",
    "version": 3
   },
   "file_extension": ".py",
   "mimetype": "text/x-python",
   "name": "python",
   "nbconvert_exporter": "python",
   "pygments_lexer": "ipython3",
   "version": "3.12.7"
  }
 },
 "nbformat": 4,
 "nbformat_minor": 5
}
