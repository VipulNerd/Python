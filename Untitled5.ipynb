{
 "cells": [
  {
   "cell_type": "code",
   "execution_count": null,
   "id": "8fcb6718-c45d-4b54-8779-a3f3480a8b40",
   "metadata": {},
   "outputs": [],
   "source": [
    "#22BAI10126\n",
    "#Vipul Gupta"
   ]
  },
  {
   "cell_type": "code",
   "execution_count": null,
   "id": "e9d8fc15-1ec2-4ae3-aa9c-8b43ca23a17e",
   "metadata": {},
   "outputs": [
    {
     "name": "stderr",
     "output_type": "stream",
     "text": [
      "2024-12-12 22:27:42.532 python[28245:5210548] +[IMKClient subclass]: chose IMKClient_Modern\n",
      "2024-12-12 22:27:42.532 python[28245:5210548] +[IMKInputSession subclass]: chose IMKInputSession_Modern\n",
      "2024-12-12 22:36:45.996 python[28245:5210548] _TIPropertyValueIsValid called with 16 on nil context!\n",
      "2024-12-12 22:36:45.996 python[28245:5210548] imkxpc_getApplicationProperty:reply: called with incorrect property value 16, bailing.\n",
      "2024-12-12 22:36:45.996 python[28245:5210548] Text input context does not respond to _valueForTIProperty:\n"
     ]
    }
   ],
   "source": [
    "import cv2\n",
    "import numpy as np\n",
    "import requests\n",
    "\n",
    "def doSomething(image_url):\n",
    "    # Fetch the image from the URL\n",
    "    response = requests.get(image_url)\n",
    "    \n",
    "    # Check if the request was successful\n",
    "    if response.status_code != 200:\n",
    "        print(f\"Error: Unable to fetch image. HTTP status code {response.status_code}\")\n",
    "        return None\n",
    "\n",
    "    # Convert the image data into an OpenCV format\n",
    "    image_data = np.frombuffer(response.content, np.uint8)\n",
    "    image = cv2.imdecode(image_data, cv2.IMREAD_COLOR)\n",
    "    \n",
    "    # Check if the image was loaded correctly\n",
    "    if image is None:\n",
    "        print(f\"Error: Unable to decode the image from {image_url}.\")\n",
    "        return None\n",
    "    \n",
    "    # Get the dimensions of the image\n",
    "    height, width = image.shape[:2]\n",
    "    \n",
    "    # Create a blank mask (all zeros)\n",
    "    mask = np.zeros((height, width), dtype=np.uint8)\n",
    "    \n",
    "    # Define the center and radius of the circular mask\n",
    "    center = (width // 2, height // 2)\n",
    "    radius = min(width, height) // 4\n",
    "    \n",
    "    # Draw a white-filled circle on the mask\n",
    "    cv2.circle(mask, center, radius, 255, -1)\n",
    "    \n",
    "    # Apply the mask to the image\n",
    "    masked_image = cv2.bitwise_and(image, image, mask=mask)\n",
    "    \n",
    "    # Display the images\n",
    "    cv2.imshow(\"Original Image\", image)\n",
    "    cv2.imshow(\"Mask\", mask)\n",
    "    cv2.imshow(\"Masked Image\", masked_image)\n",
    "    \n",
    "    # Wait for a key press and close windows\n",
    "    cv2.waitKey(0)\n",
    "    cv2.destroyAllWindows()\n",
    "    return masked_image\n",
    "\n",
    "# Example usage\n",
    "image_url = \"https://cdn.esawebb.org/archives/images/screen/weic2216b.jpg\"  # Replace with your image URL\n",
    "result = doSomething(image_url)"
   ]
  },
  {
   "cell_type": "code",
   "execution_count": null,
   "id": "491482e6-50d9-490a-93d8-3e95a8752cc2",
   "metadata": {},
   "outputs": [],
   "source": []
  }
 ],
 "metadata": {
  "kernelspec": {
   "display_name": "Python [conda env:base] *",
   "language": "python",
   "name": "conda-base-py"
  },
  "language_info": {
   "codemirror_mode": {
    "name": "ipython",
    "version": 3
   },
   "file_extension": ".py",
   "mimetype": "text/x-python",
   "name": "python",
   "nbconvert_exporter": "python",
   "pygments_lexer": "ipython3",
   "version": "3.12.7"
  }
 },
 "nbformat": 4,
 "nbformat_minor": 5
}
