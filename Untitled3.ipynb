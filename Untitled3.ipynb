{
 "cells": [
  {
   "cell_type": "code",
   "execution_count": null,
   "id": "d6e05672-6779-4c99-9eaa-f3d9d07feff8",
   "metadata": {},
   "outputs": [],
   "source": [
    "#Vipul Gupta\n",
    "#22BAI10126"
   ]
  },
  {
   "cell_type": "code",
   "execution_count": null,
   "id": "ff8a4e76-23b4-480a-8883-db821a66d851",
   "metadata": {},
   "outputs": [
    {
     "name": "stderr",
     "output_type": "stream",
     "text": [
      "2024-12-12 22:20:50.573 python[27432:5192162] +[IMKClient subclass]: chose IMKClient_Modern\n",
      "2024-12-12 22:20:50.573 python[27432:5192162] +[IMKInputSession subclass]: chose IMKInputSession_Modern\n"
     ]
    }
   ],
   "source": [
    "import cv2\n",
    "\n",
    "def doSomething(image_path, clip_limit=2.0, tile_grid_size=(8, 8)):\n",
    "    # Load the image in grayscale\n",
    "    image = cv2.imread(image_path, cv2.IMREAD_GRAYSCALE)\n",
    "    \n",
    "    # 1. Global Histogram Equalization\n",
    "    global_equalized = cv2.equalizeHist(image)\n",
    "    \n",
    "    # 2. CLAHE (Contrast Limited Adaptive Histogram Equalization)\n",
    "    clahe = cv2.createCLAHE(clipLimit=clip_limit, tileGridSize=tile_grid_size)\n",
    "    clahe_equalized = clahe.apply(image)\n",
    "    \n",
    "    # Display the results\n",
    "    cv2.imshow(\"Original Image\", image)\n",
    "    cv2.imshow(\"Global Histogram Equalization\", global_equalized)\n",
    "    cv2.imshow(\"CLAHE Equalization\", clahe_equalized)\n",
    "    \n",
    "    # Wait for a key press and close windows\n",
    "    cv2.waitKey(0)\n",
    "    cv2.destroyAllWindows()\n",
    "    \n",
    "    return global_equalized, clahe_equalized\n",
    "\n",
    "# Example usage\n",
    "image_path = \"example.jpg\"  # Replace with your image path\n",
    "clip_limit = 2.0            # Limit for CLAHE to prevent over-amplifying noise\n",
    "tile_grid_size = (8, 8)     # Size of local grids for CLAHE\n",
    "global_eq, clahe_eq = doSomething(image_path, clip_limit, tile_grid_size)"
   ]
  },
  {
   "cell_type": "code",
   "execution_count": null,
   "id": "9933ea2a-8c7b-4cc8-9eff-ae41cda8ce6e",
   "metadata": {},
   "outputs": [],
   "source": []
  }
 ],
 "metadata": {
  "kernelspec": {
   "display_name": "Python [conda env:base] *",
   "language": "python",
   "name": "conda-base-py"
  },
  "language_info": {
   "codemirror_mode": {
    "name": "ipython",
    "version": 3
   },
   "file_extension": ".py",
   "mimetype": "text/x-python",
   "name": "python",
   "nbconvert_exporter": "python",
   "pygments_lexer": "ipython3",
   "version": "3.12.7"
  }
 },
 "nbformat": 4,
 "nbformat_minor": 5
}
